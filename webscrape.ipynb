{
 "cells": [
  {
   "cell_type": "code",
   "execution_count": null,
   "metadata": {},
   "outputs": [],
   "source": [
    "print(\"Hello World!\")"
   ]
  },
  {
   "cell_type": "code",
   "execution_count": null,
   "metadata": {},
   "outputs": [],
   "source": [
    "import requests\n",
    "from bs4 import BeautifulSoup\n",
    "import pandas as pd"
   ]
  },
  {
   "cell_type": "code",
   "execution_count": null,
   "metadata": {},
   "outputs": [],
   "source": [
    "url = 'http://www.eater.com/reviews'\n",
    "page = requests.get(url)\n",
    "page = page.text\n",
    "soup = BeautifulSoup(page, \"html.parser\")"
   ]
  },
  {
   "cell_type": "code",
   "execution_count": null,
   "metadata": {},
   "outputs": [],
   "source": [
    "#get \"Eater Reviews\" header\n",
    "title = soup.title.text"
   ]
  },
  {
   "cell_type": "code",
   "execution_count": null,
   "metadata": {},
   "outputs": [],
   "source": [
    "restaurant_title = soup.find_all('h2',class_='c-entry-box--compact__title')\n",
    "restaurant_title[0].text"
   ]
  },
  {
   "cell_type": "code",
   "execution_count": null,
   "metadata": {},
   "outputs": [],
   "source": [
    "titles = []\n",
    "for title in restaurant_title:\n",
    "    titles.append(title.text)\n",
    "titles"
   ]
  },
  {
   "cell_type": "code",
   "execution_count": null,
   "metadata": {},
   "outputs": [],
   "source": [
    "dates = []\n",
    "date = soup.find_all('div',class_='c-byline')\n",
    "for tags in date:\n",
    "    tag = tags.find_all(class_='c-byline__item')\n",
    "    dates.append(tag[1].text)\n",
    "#Clean all whitespaces from the string\n",
    "def clean(dates):\n",
    "    for i in range(len(dates)):\n",
    "        dates[i] = dates[i].strip()\n",
    "    return dates\n",
    "dates = clean(dates)\n",
    "print(dates)\n",
    "#date = date.find_all(class_='c-byline__item')"
   ]
  },
  {
   "cell_type": "code",
   "execution_count": null,
   "metadata": {},
   "outputs": [],
   "source": [
    "column = ['Title', 'Date']\n",
    "df = pd.DataFrame(columns=column)\n",
    "df['Title'] = titles\n",
    "df['Date'] = dates\n",
    "print(df)"
   ]
  }
 ],
 "metadata": {
  "interpreter": {
   "hash": "a17a1f9c1f1695d3dfc26b98313e948c3a67d63eae98e3615dd2d6dc90006803"
  },
  "kernelspec": {
   "display_name": "Python 3.9.9 64-bit (windows store)",
   "language": "python",
   "name": "python3"
  },
  "language_info": {
   "codemirror_mode": {
    "name": "ipython",
    "version": 3
   },
   "file_extension": ".py",
   "mimetype": "text/x-python",
   "name": "python",
   "nbconvert_exporter": "python",
   "pygments_lexer": "ipython3",
   "version": "3.10.1"
  },
  "orig_nbformat": 4
 },
 "nbformat": 4,
 "nbformat_minor": 2
}
