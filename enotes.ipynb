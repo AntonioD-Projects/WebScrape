{
 "cells": [
  {
   "cell_type": "code",
   "execution_count": 2,
   "metadata": {},
   "outputs": [],
   "source": [
    "import requests\n",
    "from bs4 import BeautifulSoup\n",
    "import pandas as pd\n",
    "import math\n",
    "import random\n",
    "import PySimpleGUI as pg"
   ]
  },
  {
   "cell_type": "code",
   "execution_count": 3,
   "metadata": {},
   "outputs": [],
   "source": [
    "url = 'https://www.sparknotes.com/lit/mocking/key-questions-and-answers/'\n",
    "#requests.get returns response\n",
    "page = requests.get(url)\n",
    "#.text returns HTML contents\n",
    "page = page.text"
   ]
  },
  {
   "cell_type": "code",
   "execution_count": 4,
   "metadata": {},
   "outputs": [
    {
     "data": {
      "text/plain": [
       "['How is Tom Robinson a mockingbird?',\n",
       " 'What does the rabid dog Atticus shoots symbolize?',\n",
       " 'How did Jem break his arm?',\n",
       " 'What is the significance of the gifts Boo Radley leaves in the knothole?',\n",
       " 'Why does the jury find Tom guilty?',\n",
       " 'What role does Calpurnia play in the family and in the novel?',\n",
       " 'Why is Dill an important character?',\n",
       " 'What does Mrs. Dubose teach Scout and Jem?',\n",
       " 'Why does Dolphus Raymond hide Coca-Cola in a brown paper bag?',\n",
       " 'How does Maycomb react to Tom Robinson’s death?',\n",
       " 'What happens on Scout and Jem’s walk home from the harvest pageant?',\n",
       " 'Why does Atticus take Tom Robinson’s case knowing that he’ll lose?',\n",
       " 'Why does Mayella Ewell lie on the witness stand?',\n",
       " 'What qualities make Atticus a good father?',\n",
       " 'Why does Aunt Alexandra move into the Finch household?']"
      ]
     },
     "execution_count": 4,
     "metadata": {},
     "output_type": "execute_result"
    }
   ],
   "source": [
    "#create Beautiful Soup object\n",
    "soup = BeautifulSoup(page, \"html.parser\")\n",
    "question_tag = soup.find_all('div', class_='mainTextContent__studyQuestion')\n",
    "question_tag[0].text\n",
    "# len() function takes in a list and returns the size of it\n",
    "for q in range(len(question_tag)):\n",
    "    #call .text for each value\n",
    "    #get rid of \\n\n",
    "    question_tag[q] = question_tag[q].text\n",
    "    question_tag[q] = question_tag[q].strip()\n",
    "question_tag"
   ]
  },
  {
   "cell_type": "code",
   "execution_count": 5,
   "metadata": {},
   "outputs": [
    {
     "data": {
      "text/plain": [
       "<p>In Chapter 11, Atticus shoots a mad (rabid) dog in the street. This episode serves two important purposes in the novel. Before the incident with the dog, Scout and Jem saw their father as old, reserved, and not particularly powerful. When Scout and Jem learn that their father is known as the best shot in the entire county, they learn to see Atticus with a greater sense of respect. In a larger symbolic sense, the dog, because it has rabies, is a dangerous threat to the community. In shooting the dog, then, Atticus is trying to protect the community from its most dangerous elements. Similarly, in defending Tom Robinson, Atticus tries to protect the community from its most dangerous, racist tendencies. Later in the book, in Chapter 22, Miss Maudie tells Jem about Tom Robinson’s trial, “I simply want to tell you that there are some men in this world who were born to do our unpleasant jobs for us. Your father’s one of them.” Atticus’s killing of the dog and defense of Tom Robinson both reflect that he is willing and able to take on things that the rest of Maycomb is unequipped to face.</p>"
      ]
     },
     "execution_count": 5,
     "metadata": {},
     "output_type": "execute_result"
    }
   ],
   "source": [
    "answers_tag = soup.find('div', class_='mainTextContent main-container')\n",
    "answers_tag = answers_tag.findAll(attrs={'class': None})\n",
    "len(answers_tag)\n",
    "a_tag = []\n",
    "for i in range(len(answers_tag)):\n",
    "    #if i is an odd number than add element index to a_tag\n",
    "    if i%2!=0:\n",
    "        a_tag.append(answers_tag[i])\n",
    "len(a_tag)\n",
    "a_tag[1]\n",
    "#answers_tag"
   ]
  },
  {
   "cell_type": "code",
   "execution_count": 6,
   "metadata": {},
   "outputs": [
    {
     "data": {
      "text/html": [
       "<div>\n",
       "<style scoped>\n",
       "    .dataframe tbody tr th:only-of-type {\n",
       "        vertical-align: middle;\n",
       "    }\n",
       "\n",
       "    .dataframe tbody tr th {\n",
       "        vertical-align: top;\n",
       "    }\n",
       "\n",
       "    .dataframe thead th {\n",
       "        text-align: right;\n",
       "    }\n",
       "</style>\n",
       "<table border=\"1\" class=\"dataframe\">\n",
       "  <thead>\n",
       "    <tr style=\"text-align: right;\">\n",
       "      <th></th>\n",
       "      <th>Questions</th>\n",
       "      <th>Answers</th>\n",
       "    </tr>\n",
       "  </thead>\n",
       "  <tbody>\n",
       "    <tr>\n",
       "      <th>0</th>\n",
       "      <td>How is Tom Robinson a mockingbird?</td>\n",
       "      <td>[The phrase \"it's a sin to kill a mockingbird\"...</td>\n",
       "    </tr>\n",
       "    <tr>\n",
       "      <th>1</th>\n",
       "      <td>What does the rabid dog Atticus shoots symbolize?</td>\n",
       "      <td>[In Chapter 11, Atticus shoots a mad (rabid) d...</td>\n",
       "    </tr>\n",
       "    <tr>\n",
       "      <th>2</th>\n",
       "      <td>How did Jem break his arm?</td>\n",
       "      <td>[In the first sentence of the novel, Scout say...</td>\n",
       "    </tr>\n",
       "    <tr>\n",
       "      <th>3</th>\n",
       "      <td>What is the significance of the gifts Boo Radl...</td>\n",
       "      <td>[In the early chapters of the book, Jem and Sc...</td>\n",
       "    </tr>\n",
       "    <tr>\n",
       "      <th>4</th>\n",
       "      <td>Why does the jury find Tom guilty?</td>\n",
       "      <td>[The jury’s decision to convict Tom Robinson f...</td>\n",
       "    </tr>\n",
       "    <tr>\n",
       "      <th>5</th>\n",
       "      <td>What role does Calpurnia play in the family an...</td>\n",
       "      <td>[Calpurnia is a surrogate mother to Jem and Sc...</td>\n",
       "    </tr>\n",
       "    <tr>\n",
       "      <th>6</th>\n",
       "      <td>Why is Dill an important character?</td>\n",
       "      <td>[Charles Baker Harris, the boy also known as D...</td>\n",
       "    </tr>\n",
       "    <tr>\n",
       "      <th>7</th>\n",
       "      <td>What does Mrs. Dubose teach Scout and Jem?</td>\n",
       "      <td>[Although she is a mean, racist neighbor, Mrs....</td>\n",
       "    </tr>\n",
       "    <tr>\n",
       "      <th>8</th>\n",
       "      <td>Why does Dolphus Raymond hide Coca-Cola in a b...</td>\n",
       "      <td>[Dolphus Raymond, a white man who prefers the ...</td>\n",
       "    </tr>\n",
       "    <tr>\n",
       "      <th>9</th>\n",
       "      <td>How does Maycomb react to Tom Robinson’s death?</td>\n",
       "      <td>[The citizens of Maycomb react to Tom’s death ...</td>\n",
       "    </tr>\n",
       "    <tr>\n",
       "      <th>10</th>\n",
       "      <td>What happens on Scout and Jem’s walk home from...</td>\n",
       "      <td>[When Jem and Scout set off through the woods ...</td>\n",
       "    </tr>\n",
       "    <tr>\n",
       "      <th>11</th>\n",
       "      <td>Why does Atticus take Tom Robinson’s case know...</td>\n",
       "      <td>[Atticus accepts the case out of personal inte...</td>\n",
       "    </tr>\n",
       "    <tr>\n",
       "      <th>12</th>\n",
       "      <td>Why does Mayella Ewell lie on the witness stand?</td>\n",
       "      <td>[Mayella Ewell lies on the witness stand becau...</td>\n",
       "    </tr>\n",
       "    <tr>\n",
       "      <th>13</th>\n",
       "      <td>What qualities make Atticus a good father?</td>\n",
       "      <td>[Although Atticus is an “old” father according...</td>\n",
       "    </tr>\n",
       "    <tr>\n",
       "      <th>14</th>\n",
       "      <td>Why does Aunt Alexandra move into the Finch ho...</td>\n",
       "      <td>[When the trial is imminent, Aunt Alexandra sh...</td>\n",
       "    </tr>\n",
       "  </tbody>\n",
       "</table>\n",
       "</div>"
      ],
      "text/plain": [
       "                                            Questions  \\\n",
       "0                  How is Tom Robinson a mockingbird?   \n",
       "1   What does the rabid dog Atticus shoots symbolize?   \n",
       "2                          How did Jem break his arm?   \n",
       "3   What is the significance of the gifts Boo Radl...   \n",
       "4                  Why does the jury find Tom guilty?   \n",
       "5   What role does Calpurnia play in the family an...   \n",
       "6                 Why is Dill an important character?   \n",
       "7          What does Mrs. Dubose teach Scout and Jem?   \n",
       "8   Why does Dolphus Raymond hide Coca-Cola in a b...   \n",
       "9     How does Maycomb react to Tom Robinson’s death?   \n",
       "10  What happens on Scout and Jem’s walk home from...   \n",
       "11  Why does Atticus take Tom Robinson’s case know...   \n",
       "12   Why does Mayella Ewell lie on the witness stand?   \n",
       "13         What qualities make Atticus a good father?   \n",
       "14  Why does Aunt Alexandra move into the Finch ho...   \n",
       "\n",
       "                                              Answers  \n",
       "0   [The phrase \"it's a sin to kill a mockingbird\"...  \n",
       "1   [In Chapter 11, Atticus shoots a mad (rabid) d...  \n",
       "2   [In the first sentence of the novel, Scout say...  \n",
       "3   [In the early chapters of the book, Jem and Sc...  \n",
       "4   [The jury’s decision to convict Tom Robinson f...  \n",
       "5   [Calpurnia is a surrogate mother to Jem and Sc...  \n",
       "6   [Charles Baker Harris, the boy also known as D...  \n",
       "7   [Although she is a mean, racist neighbor, Mrs....  \n",
       "8   [Dolphus Raymond, a white man who prefers the ...  \n",
       "9   [The citizens of Maycomb react to Tom’s death ...  \n",
       "10  [When Jem and Scout set off through the woods ...  \n",
       "11  [Atticus accepts the case out of personal inte...  \n",
       "12  [Mayella Ewell lies on the witness stand becau...  \n",
       "13  [Although Atticus is an “old” father according...  \n",
       "14  [When the trial is imminent, Aunt Alexandra sh...  "
      ]
     },
     "execution_count": 6,
     "metadata": {},
     "output_type": "execute_result"
    }
   ],
   "source": [
    "column = ['Questions', 'Answers']\n",
    "df = pd.DataFrame(columns=column)\n",
    "df['Questions'] = question_tag\n",
    "df['Answers'] = a_tag\n",
    "\n",
    "df.shape\n",
    "\n",
    "df\n",
    "#Find a way to get the index on a question \n",
    "#Find a way to get values based on indexes"
   ]
  },
  {
   "cell_type": "code",
   "execution_count": 7,
   "metadata": {},
   "outputs": [
    {
     "name": "stdout",
     "output_type": "stream",
     "text": [
      "2\n"
     ]
    }
   ],
   "source": [
    "randnum = random.randrange(0, len(df['Questions']))\n",
    "randnum\n",
    "question = df['Questions'][randnum]\n",
    "question\n",
    "print(randnum)"
   ]
  },
  {
   "cell_type": "code",
   "execution_count": 8,
   "metadata": {},
   "outputs": [
    {
     "data": {
      "text/plain": [
       "14"
      ]
     },
     "execution_count": 8,
     "metadata": {},
     "output_type": "execute_result"
    }
   ],
   "source": [
    "rightAnswer = df['Answers'][randnum]\n",
    "rightAnswer\n",
    "len(df['Questions'])-1"
   ]
  },
  {
   "cell_type": "code",
   "execution_count": 9,
   "metadata": {},
   "outputs": [],
   "source": [
    "#usedNums = []\n",
    "#usedNums.append(randnum)\n",
    "#usedNums\n",
    "#while randnum in usedNums:\n",
    "#    randnum = random.randrange(0, len(df['Questions']))\n",
    "#wrongAnswer1 = df['Answers'][randnum]\n",
    "#usedNums.append(randnum)\n",
    "#while randnum in usedNums:\n",
    "#    randnum = random.randrange(0, len(df['Questions']))\n",
    "#wrongAnswer2 = df['Answers'][randnum]\n",
    "#usedNums.append(randnum)\n",
    "#while randnum in usedNums:\n",
    "#    randnum = random.randrange(0, len(df['Questions']))\n",
    "#wrongAnswer3 = df['Answers'][randnum]\n",
    "#usedNums"
   ]
  },
  {
   "cell_type": "code",
   "execution_count": 10,
   "metadata": {},
   "outputs": [
    {
     "name": "stdout",
     "output_type": "stream",
     "text": [
      "0\n",
      "3\n",
      "6\n"
     ]
    },
    {
     "data": {
      "text/plain": [
       "dict_keys([2, 0, 3, 6])"
      ]
     },
     "execution_count": 10,
     "metadata": {},
     "output_type": "execute_result"
    }
   ],
   "source": [
    "# num argument, index to the answer of our question\n",
    "def random_answer(num):\n",
    "    # Create an empty dictionary\n",
    "    all_answers = {}\n",
    "    all_answers[num] = df['Answers'][randnum]\n",
    "\n",
    "    num = random.randint(0,len(df['Questions'])-1)\n",
    "    while len(all_answers) <= 3:\n",
    "        print(num)\n",
    "        if num not in all_answers:\n",
    "            all_answers[num] = df['Answers'][num]\n",
    "        num = random.randint(0,len(df['Questions'])-1)\n",
    "    return(all_answers)\n",
    "\n",
    "list_answers = random_answer(randnum).keys()\n",
    "list_answers"
   ]
  },
  {
   "cell_type": "code",
   "execution_count": 11,
   "metadata": {},
   "outputs": [
    {
     "name": "stdout",
     "output_type": "stream",
     "text": [
      "2\n",
      "0\n",
      "3\n",
      "6\n"
     ]
    },
    {
     "data": {
      "text/plain": [
       "{2: 'In the first sentence of the novel, Scout says that Jem broke his arm. She starts to explain what happened but says that she needs to go back and provide the necessary context in order for the story to make sense. The rest of the novel is the background context for Jem’s broken arm. At the end of the novel Bob Ewell, who has suffered as a result of Atticus’s defense of Tom Robinson, attacks Jem and Scout on their way home from the Halloween pageant. Jem breaks his arm in the struggle. The story of a broken arm serves as a narrative device, bookending the entire novel with Scout’s telling of the story. While initially the reader might assume Jem broke his arm through innocent childhood games, by the end of the novel we understand the darker, more complicated truth behind the accident.',\n",
       " 0: 'The phrase \"it\\'s a sin to kill a mockingbird\" refers to intentionally and pointlessly destroying something that does no harm. The mockingbird is a songbird, not a pest, and it isn\\'t a game bird. Killing a mockingbird serves no purpose, and therefore is an act of unnecessary cruelty. When the jury convicts Tom Robinson of rape despite the absence of physical evidence and despite Atticus’s compelling defense, the jury is guilty of the same unnecessary cruelty. The jury specifically, and the town of Maycomb generally, destroy a good person who has never done harm simply because of the color of his skin. Though Tom is the symbolic mockingbird at the heart of the novel, he is not the only character who fits that description. Heck Tate also specifically describes Boo Radley as a mockingbird, in that he is a harmless person who is the victim of pointless cruelty. Unlike Tom Robinson, Boo Radley is not destroyed, though he does suffer greatly.',\n",
       " 3: 'In the early chapters of the book, Jem and Scout find several small items, ranging from sticks of gum to a pocket watch, left by Boo Radley in the knothole of a tree on the Radley property. These gifts are the first of several kindnesses that Boo extends to the children, ultimately culminating in Boo killing Bob Ewell to protect Jem. The gifts also represent one of the ways that Boo tries to engage with the world around him without giving up the secrecy and privacy that he requires. Despite his reclusive nature, Boo engages the Finch children in a more generous and kind way than many of the other adults that they encounter. But because of Boo’s limitations, his interactions must take a remote form.',\n",
       " 6: 'Charles Baker Harris, the boy also known as Dill, is an important foil to Jem and Scout. His imagination kindles theirs, and his youthful enthusiasm contrasts with Jem’s budding serious maturity. As children, Dill and Scout pretend that they are engaged to be married. He visits Maycomb every summer, and as it becomes clearer that his own family is erratic and insecure, readers understand that the Finches and his Aunt Stephanie are, in fact, his true family. He represents both childhood innocence and friendship.'}"
      ]
     },
     "execution_count": 11,
     "metadata": {},
     "output_type": "execute_result"
    }
   ],
   "source": [
    "#We have a list of integers of answers including the actual answer stored in index 0\n",
    "#Get the 4 answers and store them in a dictionary\n",
    "#keys = index, values answers to the index\n",
    "multiple_choice = {}\n",
    "for indexs in list_answers:\n",
    "    print(indexs)\n",
    "    #assign each index to the value answer in pandas\n",
    "    multiple_choice[indexs] = (df['Answers'][indexs]).text\n",
    "multiple_choice\n"
   ]
  },
  {
   "cell_type": "code",
   "execution_count": 12,
   "metadata": {},
   "outputs": [],
   "source": [
    "#Prompt the question\n",
    "#Have the user answer with a,b,c,d"
   ]
  },
  {
   "cell_type": "code",
   "execution_count": 20,
   "metadata": {},
   "outputs": [
    {
     "ename": "TypeError",
     "evalue": "'dict_values' object is not subscriptable",
     "output_type": "error",
     "traceback": [
      "\u001b[1;31m---------------------------------------------------------------------------\u001b[0m",
      "\u001b[1;31mTypeError\u001b[0m                                 Traceback (most recent call last)",
      "\u001b[1;32m~\\AppData\\Local\\Temp/ipykernel_10104/4274700346.py\u001b[0m in \u001b[0;36m<module>\u001b[1;34m\u001b[0m\n\u001b[0;32m     28\u001b[0m         \u001b[0mnew_df\u001b[0m \u001b[1;33m=\u001b[0m \u001b[0mnew_df\u001b[0m\u001b[1;33m.\u001b[0m\u001b[0mreset_index\u001b[0m\u001b[1;33m(\u001b[0m\u001b[1;33m)\u001b[0m\u001b[1;33m\u001b[0m\u001b[1;33m\u001b[0m\u001b[0m\n\u001b[0;32m     29\u001b[0m         \u001b[1;31m#pg.popup(new_df['Questions'][0])\u001b[0m\u001b[1;33m\u001b[0m\u001b[1;33m\u001b[0m\u001b[0m\n\u001b[1;32m---> 30\u001b[1;33m         \u001b[0manswer_question\u001b[0m\u001b[1;33m(\u001b[0m\u001b[0mnew_df\u001b[0m\u001b[1;33m,\u001b[0m\u001b[0mmultiple_choice\u001b[0m\u001b[1;33m)\u001b[0m\u001b[1;33m\u001b[0m\u001b[1;33m\u001b[0m\u001b[0m\n\u001b[0m\u001b[0;32m     31\u001b[0m     \u001b[1;32mif\u001b[0m \u001b[0mevent\u001b[0m \u001b[1;33m==\u001b[0m \u001b[0mpg\u001b[0m\u001b[1;33m.\u001b[0m\u001b[0mWIN_CLOSED\u001b[0m\u001b[1;33m:\u001b[0m\u001b[1;33m\u001b[0m\u001b[1;33m\u001b[0m\u001b[0m\n\u001b[0;32m     32\u001b[0m         \u001b[1;32mbreak\u001b[0m\u001b[1;33m\u001b[0m\u001b[1;33m\u001b[0m\u001b[0m\n",
      "\u001b[1;32m~\\AppData\\Local\\Temp/ipykernel_10104/4274700346.py\u001b[0m in \u001b[0;36manswer_question\u001b[1;34m(question, mcAnswers)\u001b[0m\n\u001b[0;32m     11\u001b[0m     \u001b[1;31m#Display\u001b[0m\u001b[1;33m\u001b[0m\u001b[1;33m\u001b[0m\u001b[0m\n\u001b[0;32m     12\u001b[0m     question_layout = [[pg.Text(question['Questions'][0]),pg.InputText()],\n\u001b[1;32m---> 13\u001b[1;33m                         pg.Text(mcAnswers.values()[0])]\n\u001b[0m\u001b[0;32m     14\u001b[0m     \u001b[0mquestion_window\u001b[0m \u001b[1;33m=\u001b[0m \u001b[0mpg\u001b[0m\u001b[1;33m.\u001b[0m\u001b[0mWindow\u001b[0m\u001b[1;33m(\u001b[0m\u001b[1;34m\"Questions\"\u001b[0m\u001b[1;33m,\u001b[0m\u001b[0mquestion_layout\u001b[0m\u001b[1;33m)\u001b[0m\u001b[1;33m\u001b[0m\u001b[1;33m\u001b[0m\u001b[0m\n\u001b[0;32m     15\u001b[0m     \u001b[1;32mwhile\u001b[0m \u001b[1;32mTrue\u001b[0m\u001b[1;33m:\u001b[0m\u001b[1;33m\u001b[0m\u001b[1;33m\u001b[0m\u001b[0m\n",
      "\u001b[1;31mTypeError\u001b[0m: 'dict_values' object is not subscriptable"
     ]
    }
   ],
   "source": [
    "#Create GUI window\n",
    "layout = [[pg.Button(\"Generate a random question\",size=(100,50))]]\n",
    "\n",
    "window = pg.Window(\"Enotes Q & A\", layout, size=(200,200))\n",
    "\n",
    "#display question\n",
    "#include input text field for user to type answer\n",
    "\n",
    "def answer_question(question,mcAnswers):\n",
    "    #Add Done and Cancel button\n",
    "    #Display\n",
    "    question_layout = [[pg.Text(question['Questions'][0]),pg.InputText()],\n",
    "                        pg.Text(mcAnswers.values()[0])]\n",
    "    question_window = pg.Window(\"Questions\",question_layout)\n",
    "    while True:\n",
    "        event, values = question_window.read() \n",
    "        if event == pg.WIN_CLOSED:\n",
    "            break\n",
    "\n",
    "while True:\n",
    "    event, values = window.read()\n",
    "    if event == \"Generate a random question\":\n",
    "        #generate random question\n",
    "        #pop it up\n",
    "\n",
    "        #Get a random row frorm the dataframe\n",
    "        new_df = df.sample()['Questions']\n",
    "        new_df = new_df.reset_index()\n",
    "        #pg.popup(new_df['Questions'][0])\n",
    "        answer_question(new_df,multiple_choice)\n",
    "    if event == pg.WIN_CLOSED:\n",
    "        break\n",
    "\n",
    "window.close()"
   ]
  },
  {
   "cell_type": "code",
   "execution_count": 18,
   "metadata": {},
   "outputs": [
    {
     "data": {
      "text/plain": [
       "'Why does Dolphus Raymond hide Coca-Cola in a brown paper bag?'"
      ]
     },
     "execution_count": 18,
     "metadata": {},
     "output_type": "execute_result"
    }
   ],
   "source": [
    "new_df = df.sample()['Questions']\n",
    "new_df = new_df.reset_index()\n",
    "new_df['Questions'][0]"
   ]
  }
 ],
 "metadata": {
  "interpreter": {
   "hash": "a17a1f9c1f1695d3dfc26b98313e948c3a67d63eae98e3615dd2d6dc90006803"
  },
  "kernelspec": {
   "display_name": "Python 3.9.9 64-bit (windows store)",
   "language": "python",
   "name": "python3"
  },
  "language_info": {
   "codemirror_mode": {
    "name": "ipython",
    "version": 3
   },
   "file_extension": ".py",
   "mimetype": "text/x-python",
   "name": "python",
   "nbconvert_exporter": "python",
   "pygments_lexer": "ipython3",
   "version": "3.10.1"
  },
  "orig_nbformat": 4
 },
 "nbformat": 4,
 "nbformat_minor": 2
}
